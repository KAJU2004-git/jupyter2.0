{
 "cells": [
  {
   "cell_type": "code",
   "execution_count": null,
   "id": "e1a9c120-ff5f-43ee-9d15-81fc368a02af",
   "metadata": {},
   "outputs": [],
   "source": [
    "# Data Science Notebook  \n"
   ]
  },
  {
   "cell_type": "code",
   "execution_count": null,
   "id": "0e39d37c-ea6a-4d10-bbc4-599dbd23db52",
   "metadata": {},
   "outputs": [],
   "source": [
    "## Introduction  \n",
    "This notebook provides an overview of essential concepts in Data Science, including languages, libraries, tools, and basic arithmetic operations.  \n"
   ]
  },
  {
   "cell_type": "code",
   "execution_count": null,
   "id": "33a4a8b1-4e4e-4ff3-853c-49dec997b379",
   "metadata": {},
   "outputs": [],
   "source": [
    "## Data Science Languages  \n",
    "- Python  \n",
    "- R  \n",
    "- Julia  \n",
    "- SQL  \n"
   ]
  },
  {
   "cell_type": "code",
   "execution_count": null,
   "id": "90da0b8e-b770-416f-a70e-5aa2d9db4272",
   "metadata": {},
   "outputs": [],
   "source": [
    "## Data Science Libraries  \n",
    "- NumPy  \n",
    "- Pandas  \n",
    "- SciPy  \n",
    "- Scikit-learn  \n",
    "- TensorFlow  \n",
    "- Keras  \n"
   ]
  },
  {
   "cell_type": "code",
   "execution_count": null,
   "id": "dd925ac9-0ecb-48a8-a876-040b8472c1e2",
   "metadata": {},
   "outputs": [],
   "source": [
    "## Data Science Tools  \n",
    "| Tool           | Purpose                  |  \n",
    "|---------------|--------------------------|  \n",
    "| Jupyter Notebook | Interactive Computing  |  \n",
    "| RStudio        | Statistical Computing    |  \n",
    "| TensorFlow     | Machine Learning         |  \n",
    "| Apache Spark   | Big Data Processing      |  \n",
    "| Tableau        | Data Visualization       |  \n"
   ]
  },
  {
   "cell_type": "code",
   "execution_count": null,
   "id": "106043e1-d1ae-4f38-96d7-74f279843238",
   "metadata": {},
   "outputs": [],
   "source": [
    "## Arithmetic Expression Examples  \n",
    "Arithmetic operations like addition, multiplication, and division are fundamental in data science computations.  \n"
   ]
  },
  {
   "cell_type": "code",
   "execution_count": 1,
   "id": "1e42b523-ccab-49d8-9aca-d0545d5ea2fc",
   "metadata": {},
   "outputs": [
    {
     "data": {
      "text/plain": [
       "25"
      ]
     },
     "execution_count": 1,
     "metadata": {},
     "output_type": "execute_result"
    }
   ],
   "source": [
    "# Multiply and Add Numbers  \n",
    "a = 5  \n",
    "b = 3  \n",
    "result = (a * b) + 10  \n",
    "result  \n"
   ]
  },
  {
   "cell_type": "code",
   "execution_count": 2,
   "id": "244b40a6-3865-41d9-9236-787fe6663671",
   "metadata": {},
   "outputs": [
    {
     "data": {
      "text/plain": [
       "2.0"
      ]
     },
     "execution_count": 2,
     "metadata": {},
     "output_type": "execute_result"
    }
   ],
   "source": [
    "# Convert Minutes to Hours  \n",
    "minutes = 120  \n",
    "hours = minutes / 60  \n",
    "hours  \n"
   ]
  },
  {
   "cell_type": "code",
   "execution_count": null,
   "id": "9f60b000-9ed6-4422-9343-7186e036e8b6",
   "metadata": {},
   "outputs": [],
   "source": [
    "## Objectives  \n",
    "- List popular data science languages  \n",
    "- Identify key data science libraries  \n",
    "- Provide examples of arithmetic operations  \n",
    "- Demonstrate conversion of units  \n"
   ]
  },
  {
   "cell_type": "code",
   "execution_count": null,
   "id": "e11a90ab-dbc6-4fd6-b776-94d3c6273323",
   "metadata": {},
   "outputs": [],
   "source": [
    "## Author  \n",
    "John Doe  \n"
   ]
  }
 ],
 "metadata": {
  "kernelspec": {
   "display_name": "Python 3 (ipykernel)",
   "language": "python",
   "name": "python3"
  },
  "language_info": {
   "codemirror_mode": {
    "name": "ipython",
    "version": 3
   },
   "file_extension": ".py",
   "mimetype": "text/x-python",
   "name": "python",
   "nbconvert_exporter": "python",
   "pygments_lexer": "ipython3",
   "version": "3.13.1"
  }
 },
 "nbformat": 4,
 "nbformat_minor": 5
}
